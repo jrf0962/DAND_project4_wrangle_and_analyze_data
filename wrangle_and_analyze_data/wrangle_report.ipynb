{
 "cells": [
  {
   "cell_type": "markdown",
   "metadata": {},
   "source": [
    "# Project: Wrangle and Analyze Data\n",
    "### Gather\n",
    "The data for this project was gathered into three pandas Data Frames.  \n",
    "1.\t`df_tae` : reading from a csv file on hand (`twitter-archive-enhanced.csv`)\n",
    "2.\t`df_ipr` : reading from a tsv file downloaded using the URL ('https://d17h27t6h515a5.cloudfront.net/topher/2017/August/599fd2ad_image-predictions/image-predictions.tsv')\n",
    "3.\t`df_rfc` : reading from a JSON data collection (`tweet_json.txt`) that was collected using `Tweepy` python-library from twitter web-site.\n",
    "\n",
    "### Assess\n",
    "The three data frames have a common column named `tweet_id` which could be used as a primary key to combine/relate the data in different tables. Neither of these tables have duplicated `tweet_id`. Hence it can be confirmed that the there are no duplicate data rows in any of these three tables. However, there were 181 rows of retweet data in the table `df_tae` as well as some data rows that are not dog posts. The former was recognized with presence of columns that have their names starts with word `“retweeted”` `(retweeted_status_id, retweeted_status_user_id and retweeted_status_timestamp)`. These columns had exactly 181 non-null data rows. In addition, the text column for these data rows started with “RT @” which is standard for retweets. The later was recognized by the text column containing the phrase `“only rate dogs”`. Another serious quality issue with this data set was the dog names that are basically dictionary words such as such, the, by and etc.\n",
    "<br>One key quality issue found in `df_ipr` table was the non-descriptive column names such as `p1`, `p1_dog` and `p1_conf`.  And it was unable to find any serious quality issues in the table `df_rfc`.\n",
    "<br>All of the quality and tidy data issues found are summarized in the `wrangle_act.ipynb` Jupyter Notebook.\n",
    "\n",
    "### Clean\n",
    "Some quality issues were first taken into consideration and cleaned. Then the merging of the two tables `df_tae` and `df_rfc` were done using an inner merge. The inner merge was chosen to ensure that  only the records of `tweet_ids` that have data in both tables should preserve. For the same reason the table `df_ipr` was also inner merged to the `df_tae` table to create the table `twitter_archive_master`.\n",
    "After merging all three data frames, the remainning quality issues were re-examined and cleaned as needed.\n",
    "All these efforts can be found in details in the Jupyter Notebook, `wrangle_act.ipynb`. \n"
   ]
  }
 ],
 "metadata": {
  "kernelspec": {
   "display_name": "Python 3",
   "language": "python",
   "name": "python3"
  },
  "language_info": {
   "codemirror_mode": {
    "name": "ipython",
    "version": 3
   },
   "file_extension": ".py",
   "mimetype": "text/x-python",
   "name": "python",
   "nbconvert_exporter": "python",
   "pygments_lexer": "ipython3",
   "version": "3.6.3"
  }
 },
 "nbformat": 4,
 "nbformat_minor": 2
}
