{
 "cells": [
  {
   "cell_type": "markdown",
   "metadata": {},
   "source": [
    "# Project: Wrangle and Analyze Data"
   ]
  },
  {
   "cell_type": "markdown",
   "metadata": {},
   "source": [
    "This is a summary of analysis and visualizations of Wrangle and Analyze data project. The methods, codes and more details for these analysis can be found in Jupyter Notebook: `wrangle_act.ipynb`."
   ]
  },
  {
   "cell_type": "markdown",
   "metadata": {},
   "source": [
    "### Is there a correlation between retweet and favorite counts?"
   ]
  },
  {
   "cell_type": "markdown",
   "metadata": {},
   "source": [
    "Couple of interesting details about these dog tweets are retweets counts and favorite counts which can be found in `df_tam` (a data frame from `twitter_archive_master.csv` file). According to my analysis these two have a strong positive correlation with a correlation coefficient of __0.93__.  A scatter plot for this relationship is shown below. However neither of these two features have significant correlation with dog ratings.\n",
    "![](retweet_vs_favorite.png)"
   ]
  },
  {
   "cell_type": "markdown",
   "metadata": {},
   "source": [
    "### How confident are the image predictions?"
   ]
  },
  {
   "cell_type": "markdown",
   "metadata": {},
   "source": [
    "In the table `df_tam`, there are three predictions for each twitter image. And each of these predictions have a percent confidence of the prediction and also whether the prediction is true or false. As can be seen from the box plot below, the first prediction of the images have higher confidence than the second and third predictions.  The percent confidences of the first predictions ranged between 4% - 100% with an average and a standard deviation of 59% and 27% respectively. The confidence range for second predictions is 0% - 49% with an average of 13.5%. The confidence range for third predictions is 0% - 27% with an average of 6%. The second and third predictions are not as confident as first predictions according to these data.\n",
    "![](confidence.png)"
   ]
  },
  {
   "cell_type": "markdown",
   "metadata": {},
   "source": [
    "### What are the average confidences for true and false predictions of each predictions?"
   ]
  },
  {
   "cell_type": "markdown",
   "metadata": {},
   "source": [
    "For the first prediction, true predictions have an average confidence of 61.3% while for false prediction, it is 53.6%.\n",
    "<br>For the second prediction, true predictions have an average confidence of 11.7% while for false prediction, it is 14.1%.\n",
    "<br>For the third prediction, true predictions have an average confidence of 5.7% while for false prediction, it is 6.2%."
   ]
  },
  {
   "cell_type": "markdown",
   "metadata": {},
   "source": [
    "### What percentage of each prediction is being true or false?"
   ]
  },
  {
   "cell_type": "markdown",
   "metadata": {},
   "source": [
    "73.98% of first prediction are true and 26.02% are false. \n",
    "<br>74.92% of first prediction are true and 25.08% are false. \n",
    "<br>72.52% of first prediction are true and 27.48% are false."
   ]
  },
  {
   "cell_type": "markdown",
   "metadata": {},
   "source": [
    "### How many of second predictions with a percent confidence over 40% are true?\n",
    "There are total of 31 predictions with above 40% confidence. Out of this 26 are true predictions."
   ]
  },
  {
   "cell_type": "markdown",
   "metadata": {},
   "source": [
    "### How many of third predictions with a percent confidence over 20% are true?\n",
    "There are total of 23 predictions with above 40% confidence. Out of this 16 are true predictions."
   ]
  }
 ],
 "metadata": {
  "kernelspec": {
   "display_name": "Python 3",
   "language": "python",
   "name": "python3"
  },
  "language_info": {
   "codemirror_mode": {
    "name": "ipython",
    "version": 3
   },
   "file_extension": ".py",
   "mimetype": "text/x-python",
   "name": "python",
   "nbconvert_exporter": "python",
   "pygments_lexer": "ipython3",
   "version": "3.6.3"
  }
 },
 "nbformat": 4,
 "nbformat_minor": 2
}
